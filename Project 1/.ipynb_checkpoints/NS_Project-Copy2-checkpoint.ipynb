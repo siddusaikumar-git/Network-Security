{
 "cells": [
  {
   "cell_type": "markdown",
   "metadata": {
    "id": "4jtk4ybGnaPi"
   },
   "source": [
    "Importing the pyvis and matplotlib libraries"
   ]
  },
  {
   "cell_type": "code",
   "execution_count": 1,
   "metadata": {
    "id": "sfDORjxugLjc"
   },
   "outputs": [],
   "source": [
    "# This library is used to display the network\n",
    "from pyvis.network import Network\n",
    "\n",
    "# This library is used to plot the graphs ex: histogram\n",
    "import matplotlib.pyplot as plt\n",
    "\n",
    "# created netowrk object, to display in notebook with html size specifications\n",
    "net = Network(notebook=True, height='750px', width='100%', font_color='black')\n",
    "net.force_atlas_2based(spring_length=200)"
   ]
  },
  {
   "cell_type": "markdown",
   "metadata": {
    "id": "7L3GYQCXnm2n"
   },
   "source": [
    "Reading the network connections and devices data into lists and sorting the nodes data"
   ]
  },
  {
   "cell_type": "code",
   "execution_count": 2,
   "metadata": {
    "id": "laPogO0QgRRB"
   },
   "outputs": [],
   "source": [
    "# reading a text data file \n",
    "with open('routers_data_undirected.txt') as f:\n",
    "    lines = f.readlines()\n",
    "\n",
    "# initializing variable for node degree distribution.\n",
    "histogramDict= {}\n",
    "\n",
    "# reading each line from the lines object to get data\n",
    "for line in lines:\n",
    "    sourceNodeID = int(line.split(\"\\t\")[0])    # accessing the source Node\n",
    "    targetNodeID = int(line.split(\"\\t\")[1])    # accessing the target Node\n",
    "    if sourceNodeID < 220:                     # consideing only the node id's in range of 0 to 219\n",
    "        \n",
    "        # add the source node to network\n",
    "        net.add_node(str(sourceNodeID), size = 1, title=str(sourceNodeID))\n",
    "        \n",
    "        # add the source node to network\n",
    "        net.add_node(str(targetNodeID), size = 1, title=str(targetNodeID))\n",
    "        \n",
    "        # add the edge between source node and target node to network\n",
    "        net.add_edge(str(sourceNodeID), str(targetNodeID))\n",
    "    \n",
    "    # add source node and target node to the histogram dictinary to calculate node degree distribution\n",
    "    if sourceNodeID not in histogramDict:\n",
    "        histogramDict[sourceNodeID] = 1\n",
    "    else:\n",
    "        histogramDict[sourceNodeID] += 1\n",
    "    \n",
    "    if targetNodeID not in histogramDict:\n",
    "        histogramDict[targetNodeID] = 1\n",
    "    else:\n",
    "        histogramDict[targetNodeID] += 1\n"
   ]
  },
  {
   "cell_type": "markdown",
   "metadata": {
    "id": "I4-4VhM0oJa4"
   },
   "source": [
    "Modifying title and value to the network such that, size of node is with respect to number of connections and on hover of node shows number of neighbors and neighbor id's"
   ]
  },
  {
   "cell_type": "code",
   "execution_count": 3,
   "metadata": {
    "colab": {
     "base_uri": "https://localhost:8080/",
     "height": 808
    },
    "id": "pMhR9wzHoCov",
    "outputId": "279f82b8-55e5-4567-e182-b71db8a7b8e7"
   },
   "outputs": [
    {
     "data": {
      "text/html": [
       "\n",
       "        <iframe\n",
       "            width=\"100%\"\n",
       "            height=\"750px\"\n",
       "            src=\"node_0_219.html\"\n",
       "            frameborder=\"0\"\n",
       "            allowfullscreen\n",
       "        ></iframe>\n",
       "        "
      ],
      "text/plain": [
       "<IPython.lib.display.IFrame at 0x17f6db447c0>"
      ]
     },
     "execution_count": 3,
     "metadata": {},
     "output_type": "execute_result"
    }
   ],
   "source": [
    "# Get the neighbor map suchas each node to its corresponding neighbor nodes count\n",
    "neighbor_map = net.get_adj_list()\n",
    "\n",
    "# Iterate through each node such that title in each node is added with neighbor node counts and neighbor node id's...\n",
    "# ... also adding value with count of neighbors to each node.\n",
    "for node in net.nodes:\n",
    "    node['title'] += ' node has '+ str(len(neighbor_map[node['id']])) +' Neighbors:<br>' + '<br>'.join(neighbor_map[node['id']])\n",
    "    node['value'] = len(neighbor_map[node['id']])\n",
    "    node['size'] = len(neighbor_map[node['id']])\n",
    "    if node['value'] == 1:\n",
    "        node['color'] = '#00fed4'\n",
    "    elif node['value'] > 1 and node['value'] < 30:\n",
    "        node['color'] = '#00bffe'\n",
    "    elif node['value'] >= 30 and node['value'] < 60:\n",
    "        node['color'] = '#00a5fe'\n",
    "    elif node['value'] >= 60 and node['value'] < 90:\n",
    "        node['color'] = '#0098fe'\n",
    "    elif node['value'] >= 90 and node['value'] < 150:\n",
    "        node['color'] = '#0066fe'\n",
    "    else:\n",
    "        node['color'] = '#0022fe'\n",
    "        \n",
    "        \n",
    "# create and display the network\n",
    "net.show(\"node_0_219.html\")"
   ]
  },
  {
   "cell_type": "markdown",
   "metadata": {
    "id": "I6mcV69OphLM"
   },
   "source": [
    "Plotting the node degree distribution histogram using matplotlib library for 192244 nodes"
   ]
  },
  {
   "cell_type": "code",
   "execution_count": 4,
   "metadata": {},
   "outputs": [
    {
     "data": {
      "image/png": "[encoded data removed]",
      "text/plain": [
       "<Figure size 720x504 with 1 Axes>"
      ]
     },
     "metadata": {
      "needs_background": "light"
     },
     "output_type": "display_data"
    }
   ],
   "source": [
    "# adding legened to specify what graph means.\n",
    "legend = ['Node Degree distribution']\n",
    "\n",
    "# specifying size and layout style of histogram.\n",
    "fig, axs = plt.subplots(1, 1,\n",
    "                        figsize =(10, 7),\n",
    "                        tight_layout = True)\n",
    "\n",
    "axs.set_yscale('log')\n",
    "\n",
    "# creating a frequency list which contains node degree frequency, sorting them in ascending order\n",
    "frequencyList = list(histogramDict.values())\n",
    "frequencyList.sort()\n",
    "\n",
    "# creaing histogram with node degree list and count on x-axis and y-axis respectively with labels.\n",
    "axs.hist(frequencyList, bins=len(set(frequencyList)))\n",
    "plt.xlabel(\"Node Degree\")\n",
    "plt.ylabel(\"Count(Log Scale)\")\n",
    "plt.legend(legend)\n",
    "# plotting the graph for 192244 nodes\n",
    "plt.show()"
   ]
  },
  {
   "cell_type": "code",
   "execution_count": 1,
   "metadata": {},
   "outputs": [
    {
     "ename": "NameError",
     "evalue": "name 'frequencyList' is not defined",
     "output_type": "error",
     "traceback": [
      "\u001b[1;31m---------------------------------------------------------------------------\u001b[0m",
      "\u001b[1;31mNameError\u001b[0m                                 Traceback (most recent call last)",
      "\u001b[1;32m<ipython-input-1-68bd126de67f>\u001b[0m in \u001b[0;36m<module>\u001b[1;34m\u001b[0m\n\u001b[1;32m----> 1\u001b[1;33m \u001b[0mfrequencyList\u001b[0m\u001b[1;33m.\u001b[0m\u001b[0mcount\u001b[0m\u001b[1;33m(\u001b[0m\u001b[1;36m1\u001b[0m\u001b[1;33m)\u001b[0m\u001b[1;33m\u001b[0m\u001b[1;33m\u001b[0m\u001b[0m\n\u001b[0m",
      "\u001b[1;31mNameError\u001b[0m: name 'frequencyList' is not defined"
     ]
    }
   ],
   "source": [
    "frequencyList.count(1)"
   ]
  }
 ],
 "metadata": {
  "accelerator": "GPU",
  "colab": {
   "collapsed_sections": [],
   "name": "Project",
   "provenance": []
  },
  "kernelspec": {
   "display_name": "Python 3",
   "language": "python",
   "name": "python3"
  },
  "language_info": {
   "codemirror_mode": {
    "name": "ipython",
    "version": 3
   },
   "file_extension": ".py",
   "mimetype": "text/x-python",
   "name": "python",
   "nbconvert_exporter": "python",
   "pygments_lexer": "ipython3",
   "version": "3.8.8"
  }
 },
 "nbformat": 4,
 "nbformat_minor": 1
}
