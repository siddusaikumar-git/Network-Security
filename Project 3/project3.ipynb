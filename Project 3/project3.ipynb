{
 "cells": [
  {
   "cell_type": "markdown",
   "id": "bebbf4ec",
   "metadata": {},
   "source": [
    "# Project 3: Implementing Distributed Denial of Service of Hosts/Routers connected in the network"
   ]
  },
  {
   "cell_type": "code",
   "execution_count": 1,
   "id": "42549df0",
   "metadata": {},
   "outputs": [],
   "source": [
    "from pyvis.network import Network #Pyvis library to visualize nodes\n",
    "import matplotlib.pyplot as plt #to plot the graph\n",
    "import networkx as nx #networkx library to analyze nodes\n",
    "import pandas as pd # load pandas library"
   ]
  },
  {
   "cell_type": "markdown",
   "id": "382598bb",
   "metadata": {},
   "source": [
    "Read the wireshark before attack output csv file to capture packets count and time"
   ]
  },
  {
   "cell_type": "code",
   "execution_count": 2,
   "id": "8a94afc8",
   "metadata": {},
   "outputs": [
    {
     "data": {
      "text/html": [
       "<div>\n",
       "<style scoped>\n",
       "    .dataframe tbody tr th:only-of-type {\n",
       "        vertical-align: middle;\n",
       "    }\n",
       "\n",
       "    .dataframe tbody tr th {\n",
       "        vertical-align: top;\n",
       "    }\n",
       "\n",
       "    .dataframe thead th {\n",
       "        text-align: right;\n",
       "    }\n",
       "</style>\n",
       "<table border=\"1\" class=\"dataframe\">\n",
       "  <thead>\n",
       "    <tr style=\"text-align: right;\">\n",
       "      <th></th>\n",
       "      <th>No.</th>\n",
       "      <th>Time</th>\n",
       "      <th>Source</th>\n",
       "      <th>Destination</th>\n",
       "      <th>Protocol</th>\n",
       "      <th>Length</th>\n",
       "      <th>Info</th>\n",
       "    </tr>\n",
       "  </thead>\n",
       "  <tbody>\n",
       "    <tr>\n",
       "      <th>0</th>\n",
       "      <td>8069</td>\n",
       "      <td>3.617600e-05</td>\n",
       "      <td>10.0.0.1</td>\n",
       "      <td>10.0.0.2</td>\n",
       "      <td>ICMP</td>\n",
       "      <td>100</td>\n",
       "      <td>Echo (ping) request  id=0x418c, seq=1/256, ttl...</td>\n",
       "    </tr>\n",
       "    <tr>\n",
       "      <th>1</th>\n",
       "      <td>8070</td>\n",
       "      <td>5.581000e-06</td>\n",
       "      <td>10.0.0.1</td>\n",
       "      <td>10.0.0.2</td>\n",
       "      <td>ICMP</td>\n",
       "      <td>100</td>\n",
       "      <td>Echo (ping) request  id=0x418c, seq=1/256, ttl...</td>\n",
       "    </tr>\n",
       "    <tr>\n",
       "      <th>2</th>\n",
       "      <td>8071</td>\n",
       "      <td>5.200000e-07</td>\n",
       "      <td>10.0.0.1</td>\n",
       "      <td>10.0.0.2</td>\n",
       "      <td>ICMP</td>\n",
       "      <td>100</td>\n",
       "      <td>Echo (ping) request  id=0x418c, seq=1/256, ttl...</td>\n",
       "    </tr>\n",
       "    <tr>\n",
       "      <th>3</th>\n",
       "      <td>8072</td>\n",
       "      <td>1.303000e-06</td>\n",
       "      <td>10.0.0.1</td>\n",
       "      <td>10.0.0.2</td>\n",
       "      <td>ICMP</td>\n",
       "      <td>100</td>\n",
       "      <td>Echo (ping) request  id=0x418c, seq=1/256, ttl...</td>\n",
       "    </tr>\n",
       "    <tr>\n",
       "      <th>4</th>\n",
       "      <td>8073</td>\n",
       "      <td>4.310000e-07</td>\n",
       "      <td>10.0.0.1</td>\n",
       "      <td>10.0.0.2</td>\n",
       "      <td>ICMP</td>\n",
       "      <td>100</td>\n",
       "      <td>Echo (ping) request  id=0x418c, seq=1/256, ttl...</td>\n",
       "    </tr>\n",
       "  </tbody>\n",
       "</table>\n",
       "</div>"
      ],
      "text/plain": [
       "    No.          Time    Source Destination Protocol  Length  \\\n",
       "0  8069  3.617600e-05  10.0.0.1    10.0.0.2     ICMP     100   \n",
       "1  8070  5.581000e-06  10.0.0.1    10.0.0.2     ICMP     100   \n",
       "2  8071  5.200000e-07  10.0.0.1    10.0.0.2     ICMP     100   \n",
       "3  8072  1.303000e-06  10.0.0.1    10.0.0.2     ICMP     100   \n",
       "4  8073  4.310000e-07  10.0.0.1    10.0.0.2     ICMP     100   \n",
       "\n",
       "                                                Info  \n",
       "0  Echo (ping) request  id=0x418c, seq=1/256, ttl...  \n",
       "1  Echo (ping) request  id=0x418c, seq=1/256, ttl...  \n",
       "2  Echo (ping) request  id=0x418c, seq=1/256, ttl...  \n",
       "3  Echo (ping) request  id=0x418c, seq=1/256, ttl...  \n",
       "4  Echo (ping) request  id=0x418c, seq=1/256, ttl...  "
      ]
     },
     "execution_count": 2,
     "metadata": {},
     "output_type": "execute_result"
    }
   ],
   "source": [
    "df = pd.read_csv('wireshark_before_attack_output.csv')\n",
    "df.head()"
   ]
  },
  {
   "cell_type": "markdown",
   "id": "ed7c83ee",
   "metadata": {},
   "source": [
    "Iterated through data frame and appended count of packets and their time at each node into packetCount, packetTime dictionaries respectively"
   ]
  },
  {
   "cell_type": "code",
   "execution_count": 3,
   "id": "8a9158ed",
   "metadata": {},
   "outputs": [],
   "source": [
    "packetCount = {}\n",
    "packetTime = {}\n",
    "\n",
    "for i in range(len(df)):\n",
    "    if \"reply\" in str(df.iloc[i]['Info']):\n",
    "        dest = str(df.iloc[i]['Destination'])\n",
    "        if dest not in packetTime:\n",
    "            packetTime[dest] = 0\n",
    "            packetCount[dest] = 0\n",
    "        packetTime[dest] += df.iloc[i]['Time']\n",
    "        packetCount[dest] += 1"
   ]
  },
  {
   "cell_type": "markdown",
   "id": "0c2f7c8f",
   "metadata": {},
   "source": [
    "Calculate the average number of packets at each router/node appended into dataframe.\n",
    "\n",
    "Time is calculated in milliseconds"
   ]
  },
  {
   "cell_type": "code",
   "execution_count": 4,
   "id": "ab9c8157",
   "metadata": {},
   "outputs": [
    {
     "data": {
      "text/html": [
       "<div>\n",
       "<style scoped>\n",
       "    .dataframe tbody tr th:only-of-type {\n",
       "        vertical-align: middle;\n",
       "    }\n",
       "\n",
       "    .dataframe tbody tr th {\n",
       "        vertical-align: top;\n",
       "    }\n",
       "\n",
       "    .dataframe thead th {\n",
       "        text-align: right;\n",
       "    }\n",
       "</style>\n",
       "<table border=\"1\" class=\"dataframe\">\n",
       "  <thead>\n",
       "    <tr style=\"text-align: right;\">\n",
       "      <th></th>\n",
       "      <th>host_id</th>\n",
       "      <th>dest_ip</th>\n",
       "      <th>dest_packet_time</th>\n",
       "      <th>dest_packet_count</th>\n",
       "      <th>dest_packet_average</th>\n",
       "    </tr>\n",
       "  </thead>\n",
       "  <tbody>\n",
       "    <tr>\n",
       "      <th>50</th>\n",
       "      <td>400.0</td>\n",
       "      <td>10.0.0.51</td>\n",
       "      <td>0.001296</td>\n",
       "      <td>500.0</td>\n",
       "      <td>385.758714</td>\n",
       "    </tr>\n",
       "    <tr>\n",
       "      <th>23</th>\n",
       "      <td>373.0</td>\n",
       "      <td>10.0.0.24</td>\n",
       "      <td>0.001323</td>\n",
       "      <td>508.0</td>\n",
       "      <td>383.846123</td>\n",
       "    </tr>\n",
       "    <tr>\n",
       "      <th>12</th>\n",
       "      <td>362.0</td>\n",
       "      <td>10.0.0.13</td>\n",
       "      <td>0.001337</td>\n",
       "      <td>504.0</td>\n",
       "      <td>376.888368</td>\n",
       "    </tr>\n",
       "    <tr>\n",
       "      <th>17</th>\n",
       "      <td>367.0</td>\n",
       "      <td>10.0.0.18</td>\n",
       "      <td>0.001239</td>\n",
       "      <td>464.0</td>\n",
       "      <td>374.420314</td>\n",
       "    </tr>\n",
       "    <tr>\n",
       "      <th>15</th>\n",
       "      <td>365.0</td>\n",
       "      <td>10.0.0.16</td>\n",
       "      <td>0.001376</td>\n",
       "      <td>504.0</td>\n",
       "      <td>366.204285</td>\n",
       "    </tr>\n",
       "  </tbody>\n",
       "</table>\n",
       "</div>"
      ],
      "text/plain": [
       "    host_id    dest_ip  dest_packet_time  dest_packet_count  \\\n",
       "50    400.0  10.0.0.51          0.001296              500.0   \n",
       "23    373.0  10.0.0.24          0.001323              508.0   \n",
       "12    362.0  10.0.0.13          0.001337              504.0   \n",
       "17    367.0  10.0.0.18          0.001239              464.0   \n",
       "15    365.0  10.0.0.16          0.001376              504.0   \n",
       "\n",
       "    dest_packet_average  \n",
       "50           385.758714  \n",
       "23           383.846123  \n",
       "12           376.888368  \n",
       "17           374.420314  \n",
       "15           366.204285  "
      ]
     },
     "execution_count": 4,
     "metadata": {},
     "output_type": "execute_result"
    }
   ],
   "source": [
    "before_df = pd.DataFrame()\n",
    "\n",
    "count = 0\n",
    "for key, value in packetTime.items():\n",
    "    \n",
    "    before_df.loc[count, \"host_id\"] = int(str(key).split(\".\")[3]) + 349\n",
    "    before_df.loc[count, \"dest_ip\"] = key\n",
    "    before_df.loc[count, \"dest_packet_time\"] = value\n",
    "    before_df.loc[count, \"dest_packet_count\"] = packetCount[key]\n",
    "    before_df.loc[count, \"dest_packet_average\"] = packetCount[key]/(1000 * value)\n",
    "    \n",
    "    count += 1\n",
    "before_df = before_df.sort_values(\"dest_packet_average\", axis = 0, ascending = False)\n",
    "before_df.head()\n"
   ]
  },
  {
   "cell_type": "markdown",
   "id": "92702728",
   "metadata": {},
   "source": [
    "created a dictionary with each host id and its respective average packet count"
   ]
  },
  {
   "cell_type": "code",
   "execution_count": 5,
   "id": "8f64e673",
   "metadata": {},
   "outputs": [],
   "source": [
    "avg_Packet_Size = {}\n",
    "for i in range(len(before_df)):\n",
    "    avg_Packet_Size[int(before_df.iloc[i]['host_id'])] = round(before_df.iloc[i]['dest_packet_average'])"
   ]
  },
  {
   "cell_type": "markdown",
   "id": "614f0c81",
   "metadata": {},
   "source": [
    "plotted the visualization graph to display how host are connected in the network such that, each host size is respect to average number of packets per host"
   ]
  },
  {
   "cell_type": "code",
   "execution_count": 6,
   "id": "3a73398a",
   "metadata": {},
   "outputs": [
    {
     "data": {
      "text/html": [
       "\n",
       "        <iframe\n",
       "            width=\"100%\"\n",
       "            height=\"750px\"\n",
       "            src=\"before_attack.html\"\n",
       "            frameborder=\"0\"\n",
       "            allowfullscreen\n",
       "        ></iframe>\n",
       "        "
      ],
      "text/plain": [
       "<IPython.lib.display.IFrame at 0x20040edd6a0>"
      ]
     },
     "execution_count": 6,
     "metadata": {},
     "output_type": "execute_result"
    }
   ],
   "source": [
    "net = Network(notebook=True, height='750px', width='100%', font_color='black')\n",
    "net.force_atlas_2based() #a variant of on of the fastest algorithm barneshut\n",
    "G = nx.Graph()\n",
    "\n",
    "with open('data.txt') as f:\n",
    "    lines = f.readlines()\n",
    "sources =before_df['host_id']\n",
    "sizes = before_df['dest_packet_average']\n",
    "# reading each line from the lines object to get data\n",
    "for line in lines:\n",
    "    s = int(line.split(\":\")[0])    # to get all the source Nodes \n",
    "    des = [int(l) for l in list(line.split(\":\")[1].split(', ')) if l != '\\n']    # to get all the destination Nodes\n",
    "    for d in des:\n",
    "        net.add_node(str(s), str(s), title=str(s)) #creating node\n",
    "        net.add_node(str(d), str(d), title=str(d)) #creating node\n",
    "        net.add_edge(str(s), str(d)) #creating edge\n",
    "        G.add_node(s) #creating the node\n",
    "        G.add_node(d) #creating the node\n",
    "        G.add_edge(s, d)\n",
    "neighbor_map = net.get_adj_list() #inbuilt fucntion to get neibhor nodes data\n",
    "\n",
    "#updating the title, value and size accordingly\n",
    "for node in net.nodes:\n",
    "    \n",
    "    node['title'] += 'Neighbors:<br>' + str(len(neighbor_map[node['id']])) +' Neighbors:<br>' + '<br>'.join(neighbor_map[node['id']])\n",
    "    node['value'] = avg_Packet_Size[int(node['id'])]\n",
    "    node['size'] = avg_Packet_Size[int(node['id'])]\n",
    "\n",
    "net.show(\"before_attack.html\")\n"
   ]
  },
  {
   "cell_type": "markdown",
   "id": "1e9fbe8a",
   "metadata": {},
   "source": [
    "loaded csv file with wireshark after attack"
   ]
  },
  {
   "cell_type": "code",
   "execution_count": 7,
   "id": "6f83ba1a",
   "metadata": {},
   "outputs": [
    {
     "data": {
      "text/html": [
       "<div>\n",
       "<style scoped>\n",
       "    .dataframe tbody tr th:only-of-type {\n",
       "        vertical-align: middle;\n",
       "    }\n",
       "\n",
       "    .dataframe tbody tr th {\n",
       "        vertical-align: top;\n",
       "    }\n",
       "\n",
       "    .dataframe thead th {\n",
       "        text-align: right;\n",
       "    }\n",
       "</style>\n",
       "<table border=\"1\" class=\"dataframe\">\n",
       "  <thead>\n",
       "    <tr style=\"text-align: right;\">\n",
       "      <th></th>\n",
       "      <th>No.</th>\n",
       "      <th>Time</th>\n",
       "      <th>Source</th>\n",
       "      <th>Destination</th>\n",
       "      <th>Protocol</th>\n",
       "      <th>Length</th>\n",
       "      <th>Info</th>\n",
       "    </tr>\n",
       "  </thead>\n",
       "  <tbody>\n",
       "    <tr>\n",
       "      <th>0</th>\n",
       "      <td>7279</td>\n",
       "      <td>0.000004</td>\n",
       "      <td>10.0.0.1</td>\n",
       "      <td>10.0.0.2</td>\n",
       "      <td>ICMP</td>\n",
       "      <td>100</td>\n",
       "      <td>Echo (ping) request  id=0x2ed2, seq=1/256, ttl...</td>\n",
       "    </tr>\n",
       "    <tr>\n",
       "      <th>1</th>\n",
       "      <td>7280</td>\n",
       "      <td>0.000002</td>\n",
       "      <td>10.0.0.1</td>\n",
       "      <td>10.0.0.2</td>\n",
       "      <td>ICMP</td>\n",
       "      <td>100</td>\n",
       "      <td>Echo (ping) request  id=0x2ed2, seq=1/256, ttl...</td>\n",
       "    </tr>\n",
       "    <tr>\n",
       "      <th>2</th>\n",
       "      <td>7281</td>\n",
       "      <td>0.000000</td>\n",
       "      <td>10.0.0.1</td>\n",
       "      <td>10.0.0.2</td>\n",
       "      <td>ICMP</td>\n",
       "      <td>100</td>\n",
       "      <td>Echo (ping) request  id=0x2ed2, seq=1/256, ttl...</td>\n",
       "    </tr>\n",
       "    <tr>\n",
       "      <th>3</th>\n",
       "      <td>7282</td>\n",
       "      <td>0.000001</td>\n",
       "      <td>10.0.0.1</td>\n",
       "      <td>10.0.0.2</td>\n",
       "      <td>ICMP</td>\n",
       "      <td>100</td>\n",
       "      <td>Echo (ping) request  id=0x2ed2, seq=1/256, ttl...</td>\n",
       "    </tr>\n",
       "    <tr>\n",
       "      <th>4</th>\n",
       "      <td>7283</td>\n",
       "      <td>0.000000</td>\n",
       "      <td>10.0.0.1</td>\n",
       "      <td>10.0.0.2</td>\n",
       "      <td>ICMP</td>\n",
       "      <td>100</td>\n",
       "      <td>Echo (ping) request  id=0x2ed2, seq=1/256, ttl...</td>\n",
       "    </tr>\n",
       "  </tbody>\n",
       "</table>\n",
       "</div>"
      ],
      "text/plain": [
       "    No.      Time    Source Destination Protocol  Length  \\\n",
       "0  7279  0.000004  10.0.0.1    10.0.0.2     ICMP     100   \n",
       "1  7280  0.000002  10.0.0.1    10.0.0.2     ICMP     100   \n",
       "2  7281  0.000000  10.0.0.1    10.0.0.2     ICMP     100   \n",
       "3  7282  0.000001  10.0.0.1    10.0.0.2     ICMP     100   \n",
       "4  7283  0.000000  10.0.0.1    10.0.0.2     ICMP     100   \n",
       "\n",
       "                                                Info  \n",
       "0  Echo (ping) request  id=0x2ed2, seq=1/256, ttl...  \n",
       "1  Echo (ping) request  id=0x2ed2, seq=1/256, ttl...  \n",
       "2  Echo (ping) request  id=0x2ed2, seq=1/256, ttl...  \n",
       "3  Echo (ping) request  id=0x2ed2, seq=1/256, ttl...  \n",
       "4  Echo (ping) request  id=0x2ed2, seq=1/256, ttl...  "
      ]
     },
     "execution_count": 7,
     "metadata": {},
     "output_type": "execute_result"
    }
   ],
   "source": [
    "adf = pd.read_csv('wireshark_after_attack_output.csv')\n",
    "adf.head()"
   ]
  },
  {
   "cell_type": "markdown",
   "id": "78fa7e11",
   "metadata": {},
   "source": [
    "created dataframe with averge number of packets per each node after attack"
   ]
  },
  {
   "cell_type": "code",
   "execution_count": 8,
   "id": "fc0fa1b6",
   "metadata": {},
   "outputs": [
    {
     "data": {
      "text/html": [
       "<div>\n",
       "<style scoped>\n",
       "    .dataframe tbody tr th:only-of-type {\n",
       "        vertical-align: middle;\n",
       "    }\n",
       "\n",
       "    .dataframe tbody tr th {\n",
       "        vertical-align: top;\n",
       "    }\n",
       "\n",
       "    .dataframe thead th {\n",
       "        text-align: right;\n",
       "    }\n",
       "</style>\n",
       "<table border=\"1\" class=\"dataframe\">\n",
       "  <thead>\n",
       "    <tr style=\"text-align: right;\">\n",
       "      <th></th>\n",
       "      <th>host_id</th>\n",
       "      <th>dest_ip</th>\n",
       "      <th>dest_packet_time</th>\n",
       "      <th>dest_packet_count</th>\n",
       "      <th>dest_packet_average</th>\n",
       "    </tr>\n",
       "  </thead>\n",
       "  <tbody>\n",
       "    <tr>\n",
       "      <th>5</th>\n",
       "      <td>350.0</td>\n",
       "      <td>10.0.0.1</td>\n",
       "      <td>0.002260</td>\n",
       "      <td>452.0</td>\n",
       "      <td>200.000000</td>\n",
       "    </tr>\n",
       "    <tr>\n",
       "      <th>0</th>\n",
       "      <td>351.0</td>\n",
       "      <td>10.0.0.2</td>\n",
       "      <td>0.001717</td>\n",
       "      <td>428.0</td>\n",
       "      <td>249.271986</td>\n",
       "    </tr>\n",
       "    <tr>\n",
       "      <th>1</th>\n",
       "      <td>352.0</td>\n",
       "      <td>10.0.0.3</td>\n",
       "      <td>0.002273</td>\n",
       "      <td>432.0</td>\n",
       "      <td>190.057193</td>\n",
       "    </tr>\n",
       "    <tr>\n",
       "      <th>2</th>\n",
       "      <td>353.0</td>\n",
       "      <td>10.0.0.4</td>\n",
       "      <td>0.001764</td>\n",
       "      <td>370.0</td>\n",
       "      <td>209.750567</td>\n",
       "    </tr>\n",
       "    <tr>\n",
       "      <th>3</th>\n",
       "      <td>354.0</td>\n",
       "      <td>10.0.0.5</td>\n",
       "      <td>0.002344</td>\n",
       "      <td>518.0</td>\n",
       "      <td>220.989761</td>\n",
       "    </tr>\n",
       "  </tbody>\n",
       "</table>\n",
       "</div>"
      ],
      "text/plain": [
       "   host_id   dest_ip  dest_packet_time  dest_packet_count  dest_packet_average\n",
       "5    350.0  10.0.0.1          0.002260              452.0           200.000000\n",
       "0    351.0  10.0.0.2          0.001717              428.0           249.271986\n",
       "1    352.0  10.0.0.3          0.002273              432.0           190.057193\n",
       "2    353.0  10.0.0.4          0.001764              370.0           209.750567\n",
       "3    354.0  10.0.0.5          0.002344              518.0           220.989761"
      ]
     },
     "execution_count": 8,
     "metadata": {},
     "output_type": "execute_result"
    }
   ],
   "source": [
    "afterPacketCount = {}\n",
    "afterPacketTime = {}\n",
    "\n",
    "\n",
    "for i in range(len(adf)):\n",
    "    if \"reply\" in str(adf.iloc[i]['Info']):\n",
    "        dest = str(adf.iloc[i]['Destination'])\n",
    "        if dest not in afterPacketTime:\n",
    "            afterPacketTime[dest] = 0\n",
    "            afterPacketCount[dest] = 0\n",
    "        afterPacketTime[dest] += adf.iloc[i]['Time']\n",
    "        afterPacketCount[dest] += 1\n",
    "\n",
    "after_df = pd.DataFrame()\n",
    "\n",
    "count = 0\n",
    "for key, value in afterPacketTime.items():\n",
    "    \n",
    "    after_df.loc[count, \"host_id\"] = int(str(key).split(\".\")[3]) + 349\n",
    "    after_df.loc[count, \"dest_ip\"] = key\n",
    "    after_df.loc[count, \"dest_packet_time\"] = value\n",
    "    after_df.loc[count, \"dest_packet_count\"] = afterPacketCount[key]\n",
    "    after_df.loc[count, \"dest_packet_average\"] = afterPacketCount[key]/(1000 * value)\n",
    "    \n",
    "    count += 1\n",
    "\n",
    "after_df = after_df.sort_values(\"host_id\", axis = 0, ascending = True)\n",
    "after_df.head()"
   ]
  },
  {
   "cell_type": "markdown",
   "id": "90c6d473",
   "metadata": {},
   "source": [
    "created dictionary with each host and its respective average number of packets per host"
   ]
  },
  {
   "cell_type": "code",
   "execution_count": 9,
   "id": "89e3a038",
   "metadata": {},
   "outputs": [],
   "source": [
    "avg_Packet_Size_After = {}\n",
    "for i in range(len(after_df)):\n",
    "    avg_Packet_Size_After[int(after_df.iloc[i]['host_id'])] = round(after_df.iloc[i]['dest_packet_average'])"
   ]
  },
  {
   "cell_type": "markdown",
   "id": "66fbd08c",
   "metadata": {},
   "source": [
    "Displayed graph hosts connected in the network with each size of average number of packets per host\n",
    "\n",
    "Note with red color represents, removed from the network due to Ddos attack"
   ]
  },
  {
   "cell_type": "code",
   "execution_count": 10,
   "id": "f3905911",
   "metadata": {},
   "outputs": [
    {
     "data": {
      "text/html": [
       "\n",
       "        <iframe\n",
       "            width=\"100%\"\n",
       "            height=\"750px\"\n",
       "            src=\"after_attack.html\"\n",
       "            frameborder=\"0\"\n",
       "            allowfullscreen\n",
       "        ></iframe>\n",
       "        "
      ],
      "text/plain": [
       "<IPython.lib.display.IFrame at 0x20041638280>"
      ]
     },
     "execution_count": 10,
     "metadata": {},
     "output_type": "execute_result"
    }
   ],
   "source": [
    "net = Network(notebook=True, height='750px', width='100%', font_color='black')\n",
    "net.force_atlas_2based() #a variant of on of the fastest algorithm barneshut\n",
    "G = nx.Graph()\n",
    "\n",
    "with open('data.txt') as f:\n",
    "    lines = f.readlines()\n",
    "\n",
    "# reading each line from the lines object to get data\n",
    "for line in lines:\n",
    "    s = int(line.split(\":\")[0])    # to get all the source Nodes \n",
    "    des = [int(l) for l in list(line.split(\":\")[1].split(', ')) if l != '\\n']    # to get all the destination Nodes\n",
    "    for d in des:\n",
    "        net.add_node(str(s), str(s), title=str(s)) #creating node\n",
    "        net.add_node(str(d), str(d), title=str(d)) #creating node\n",
    "        net.add_edge(str(s), str(d)) #creating edge\n",
    "        G.add_node(s) #creating the node\n",
    "        G.add_node(d) #creating the node\n",
    "        G.add_edge(s, d)\n",
    "neighbor_map = net.get_adj_list() #inbuilt fucntion to get neibhor nodes data\n",
    "\n",
    "#updating the title, value and size accordingly\n",
    "for node in net.nodes:\n",
    "    if int(node['id']) in avg_Packet_Size_After:\n",
    "        node['title'] += ' Node:<br>' + str(len(neighbor_map[node['id']])) +' Neighbors:<br>' + '<br>'.join(neighbor_map[node['id']])\n",
    "        node['value'] = avg_Packet_Size_After[int(node['id'])]\n",
    "        node['size'] = avg_Packet_Size_After[int(node['id'])]\n",
    "    else:\n",
    "        node['title'] += ' Node:<br>' +'is un-reachable'\n",
    "        node['value'] = 150\n",
    "        node['size'] = 150\n",
    "        node['color'] = '#dd4b39'\n",
    "net.show(\"after_attack.html\")\n"
   ]
  },
  {
   "cell_type": "markdown",
   "id": "46b3000e",
   "metadata": {},
   "source": [
    "Number of packets received by each node, before and after attack"
   ]
  },
  {
   "cell_type": "code",
   "execution_count": 11,
   "id": "51e0274d",
   "metadata": {},
   "outputs": [
    {
     "data": {
      "image/png": "[encoded data removed]",
      "text/plain": [
       "<Figure size 1440x720 with 1 Axes>"
      ]
     },
     "metadata": {
      "needs_background": "light"
     },
     "output_type": "display_data"
    }
   ],
   "source": [
    "# avg_Packet_Size\n",
    "# avg_Packet_Size_After\n",
    "before = {}\n",
    "after = {}\n",
    "# These are the following nodes which are reomved as a part of DDoS attack.\n",
    "avg_Packet_Size_After.update([(392, 0), (394,0), (395,0), (396,0), (397, 0), (398,0), (399,0), (400,0)])\n",
    "before = dict(sorted(avg_Packet_Size.items()))\n",
    "# print(before)\n",
    "after = dict(sorted(avg_Packet_Size_After.items()))\n",
    "# print(after)\n",
    "r_id = list(before.keys())\n",
    "b_values = list(before.values())\n",
    "r_values = list(after.values())\n",
    "plt.figure(figsize=(20, 10))\n",
    "plt.bar(range(len(before)), b_values, width=-0.2, color='b', align='edge')\n",
    "plt.bar(range(len(after)), r_values, width=0.2, color='g', align='edge')\n",
    "plt.legend(('Before','After'))\n",
    "plt.xticks(range(len(before)), r_id)\n",
    "plt.xlabel('Node IDs')\n",
    "plt.ylabel('Average count of number of packets per node/router')\n",
    "plt.title(\"Average no of packects received by each node Before and After the attack\", fontsize=17)\n",
    "plt.show()"
   ]
  }
 ],
 "metadata": {
  "kernelspec": {
   "display_name": "Python 3",
   "language": "python",
   "name": "python3"
  },
  "language_info": {
   "codemirror_mode": {
    "name": "ipython",
    "version": 3
   },
   "file_extension": ".py",
   "mimetype": "text/x-python",
   "name": "python",
   "nbconvert_exporter": "python",
   "pygments_lexer": "ipython3",
   "version": "3.8.8"
  }
 },
 "nbformat": 4,
 "nbformat_minor": 5
}
